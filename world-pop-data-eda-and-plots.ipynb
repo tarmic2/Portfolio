{
 "cells": [
  {
   "cell_type": "code",
   "execution_count": 1,
   "id": "4c83104e",
   "metadata": {
    "_cell_guid": "b1076dfc-b9ad-4769-8c92-a6c4dae69d19",
    "_uuid": "8f2839f25d086af736a60e9eeb907d3b93b6e0e5",
    "execution": {
     "iopub.execute_input": "2022-10-24T20:44:32.615787Z",
     "iopub.status.busy": "2022-10-24T20:44:32.614736Z",
     "iopub.status.idle": "2022-10-24T20:44:33.757147Z",
     "shell.execute_reply": "2022-10-24T20:44:33.755805Z"
    },
    "papermill": {
     "duration": 1.154302,
     "end_time": "2022-10-24T20:44:33.760278",
     "exception": false,
     "start_time": "2022-10-24T20:44:32.605976",
     "status": "completed"
    },
    "tags": []
   },
   "outputs": [],
   "source": [
    "#Import Libraries\n",
    "import numpy as np\n",
    "import pandas as pd \n",
    "import matplotlib.pyplot as plt\n",
    "import seaborn as sns"
   ]
  },
  {
   "cell_type": "code",
   "execution_count": 2,
   "id": "636456e5",
   "metadata": {
    "execution": {
     "iopub.execute_input": "2022-10-24T20:44:33.774986Z",
     "iopub.status.busy": "2022-10-24T20:44:33.774219Z",
     "iopub.status.idle": "2022-10-24T20:44:33.803552Z",
     "shell.execute_reply": "2022-10-24T20:44:33.802448Z"
    },
    "papermill": {
     "duration": 0.039639,
     "end_time": "2022-10-24T20:44:33.806358",
     "exception": false,
     "start_time": "2022-10-24T20:44:33.766719",
     "status": "completed"
    },
    "tags": []
   },
   "outputs": [],
   "source": [
    "df_pop = pd.read_csv('../input/world-population-dataset/world_population.csv')"
   ]
  },
  {
   "cell_type": "code",
   "execution_count": 3,
   "id": "b19d196e",
   "metadata": {
    "execution": {
     "iopub.execute_input": "2022-10-24T20:44:33.819974Z",
     "iopub.status.busy": "2022-10-24T20:44:33.818787Z",
     "iopub.status.idle": "2022-10-24T20:44:33.823851Z",
     "shell.execute_reply": "2022-10-24T20:44:33.823094Z"
    },
    "papermill": {
     "duration": 0.014152,
     "end_time": "2022-10-24T20:44:33.826136",
     "exception": false,
     "start_time": "2022-10-24T20:44:33.811984",
     "status": "completed"
    },
    "tags": []
   },
   "outputs": [],
   "source": [
    "# Check...\n",
    "# shape of data\n",
    "# what are dtypes?\n",
    "# what does data look like?\n",
    "# missing values?"
   ]
  },
  {
   "cell_type": "code",
   "execution_count": 4,
   "id": "06e2974e",
   "metadata": {
    "execution": {
     "iopub.execute_input": "2022-10-24T20:44:33.838857Z",
     "iopub.status.busy": "2022-10-24T20:44:33.838455Z",
     "iopub.status.idle": "2022-10-24T20:44:33.844732Z",
     "shell.execute_reply": "2022-10-24T20:44:33.843917Z"
    },
    "papermill": {
     "duration": 0.015107,
     "end_time": "2022-10-24T20:44:33.846725",
     "exception": false,
     "start_time": "2022-10-24T20:44:33.831618",
     "status": "completed"
    },
    "tags": []
   },
   "outputs": [
    {
     "name": "stdout",
     "output_type": "stream",
     "text": [
      "Shape of Dataframe:  (234, 17) \n",
      "\n",
      "Number of columns:  17 \n",
      "\n",
      "Number of rows:  234\n"
     ]
    }
   ],
   "source": [
    "# shape of data\n",
    "print('Shape of Dataframe: ', df_pop.shape, '\\n')\n",
    "\n",
    "# numb of columns\n",
    "print('Number of columns: ', df_pop.shape[1], '\\n')\n",
    "\n",
    "# numb of rows\n",
    "print('Number of rows: ', df_pop.shape[0])"
   ]
  },
  {
   "cell_type": "code",
   "execution_count": 5,
   "id": "86638d8d",
   "metadata": {
    "execution": {
     "iopub.execute_input": "2022-10-24T20:44:33.860312Z",
     "iopub.status.busy": "2022-10-24T20:44:33.859044Z",
     "iopub.status.idle": "2022-10-24T20:44:33.871988Z",
     "shell.execute_reply": "2022-10-24T20:44:33.871174Z"
    },
    "papermill": {
     "duration": 0.021861,
     "end_time": "2022-10-24T20:44:33.874256",
     "exception": false,
     "start_time": "2022-10-24T20:44:33.852395",
     "status": "completed"
    },
    "tags": []
   },
   "outputs": [
    {
     "data": {
      "text/plain": [
       "Rank                             int64\n",
       "CCA3                            object\n",
       "Country/Territory               object\n",
       "Capital                         object\n",
       "Continent                       object\n",
       "2022 Population                  int64\n",
       "2020 Population                  int64\n",
       "2015 Population                  int64\n",
       "2010 Population                  int64\n",
       "2000 Population                  int64\n",
       "1990 Population                  int64\n",
       "1980 Population                  int64\n",
       "1970 Population                  int64\n",
       "Area (km²)                       int64\n",
       "Density (per km²)              float64\n",
       "Growth Rate                    float64\n",
       "World Population Percentage    float64\n",
       "dtype: object"
      ]
     },
     "execution_count": 5,
     "metadata": {},
     "output_type": "execute_result"
    }
   ],
   "source": [
    "# what are dtypes and names of columns?\n",
    "df_pop.dtypes"
   ]
  },
  {
   "cell_type": "code",
   "execution_count": 6,
   "id": "bddbab37",
   "metadata": {
    "execution": {
     "iopub.execute_input": "2022-10-24T20:44:33.887943Z",
     "iopub.status.busy": "2022-10-24T20:44:33.887547Z",
     "iopub.status.idle": "2022-10-24T20:44:33.912387Z",
     "shell.execute_reply": "2022-10-24T20:44:33.911162Z"
    },
    "papermill": {
     "duration": 0.034889,
     "end_time": "2022-10-24T20:44:33.915015",
     "exception": false,
     "start_time": "2022-10-24T20:44:33.880126",
     "status": "completed"
    },
    "tags": []
   },
   "outputs": [
    {
     "data": {
      "text/html": [
       "<div>\n",
       "<style scoped>\n",
       "    .dataframe tbody tr th:only-of-type {\n",
       "        vertical-align: middle;\n",
       "    }\n",
       "\n",
       "    .dataframe tbody tr th {\n",
       "        vertical-align: top;\n",
       "    }\n",
       "\n",
       "    .dataframe thead th {\n",
       "        text-align: right;\n",
       "    }\n",
       "</style>\n",
       "<table border=\"1\" class=\"dataframe\">\n",
       "  <thead>\n",
       "    <tr style=\"text-align: right;\">\n",
       "      <th></th>\n",
       "      <th>Rank</th>\n",
       "      <th>CCA3</th>\n",
       "      <th>Country/Territory</th>\n",
       "      <th>Capital</th>\n",
       "      <th>Continent</th>\n",
       "      <th>2022 Population</th>\n",
       "      <th>2020 Population</th>\n",
       "      <th>2015 Population</th>\n",
       "      <th>2010 Population</th>\n",
       "      <th>2000 Population</th>\n",
       "      <th>1990 Population</th>\n",
       "      <th>1980 Population</th>\n",
       "      <th>1970 Population</th>\n",
       "      <th>Area (km²)</th>\n",
       "      <th>Density (per km²)</th>\n",
       "      <th>Growth Rate</th>\n",
       "      <th>World Population Percentage</th>\n",
       "    </tr>\n",
       "  </thead>\n",
       "  <tbody>\n",
       "    <tr>\n",
       "      <th>0</th>\n",
       "      <td>36</td>\n",
       "      <td>AFG</td>\n",
       "      <td>Afghanistan</td>\n",
       "      <td>Kabul</td>\n",
       "      <td>Asia</td>\n",
       "      <td>41128771</td>\n",
       "      <td>38972230</td>\n",
       "      <td>33753499</td>\n",
       "      <td>28189672</td>\n",
       "      <td>19542982</td>\n",
       "      <td>10694796</td>\n",
       "      <td>12486631</td>\n",
       "      <td>10752971</td>\n",
       "      <td>652230</td>\n",
       "      <td>63.0587</td>\n",
       "      <td>1.0257</td>\n",
       "      <td>0.52</td>\n",
       "    </tr>\n",
       "    <tr>\n",
       "      <th>1</th>\n",
       "      <td>138</td>\n",
       "      <td>ALB</td>\n",
       "      <td>Albania</td>\n",
       "      <td>Tirana</td>\n",
       "      <td>Europe</td>\n",
       "      <td>2842321</td>\n",
       "      <td>2866849</td>\n",
       "      <td>2882481</td>\n",
       "      <td>2913399</td>\n",
       "      <td>3182021</td>\n",
       "      <td>3295066</td>\n",
       "      <td>2941651</td>\n",
       "      <td>2324731</td>\n",
       "      <td>28748</td>\n",
       "      <td>98.8702</td>\n",
       "      <td>0.9957</td>\n",
       "      <td>0.04</td>\n",
       "    </tr>\n",
       "    <tr>\n",
       "      <th>2</th>\n",
       "      <td>34</td>\n",
       "      <td>DZA</td>\n",
       "      <td>Algeria</td>\n",
       "      <td>Algiers</td>\n",
       "      <td>Africa</td>\n",
       "      <td>44903225</td>\n",
       "      <td>43451666</td>\n",
       "      <td>39543154</td>\n",
       "      <td>35856344</td>\n",
       "      <td>30774621</td>\n",
       "      <td>25518074</td>\n",
       "      <td>18739378</td>\n",
       "      <td>13795915</td>\n",
       "      <td>2381741</td>\n",
       "      <td>18.8531</td>\n",
       "      <td>1.0164</td>\n",
       "      <td>0.56</td>\n",
       "    </tr>\n",
       "    <tr>\n",
       "      <th>3</th>\n",
       "      <td>213</td>\n",
       "      <td>ASM</td>\n",
       "      <td>American Samoa</td>\n",
       "      <td>Pago Pago</td>\n",
       "      <td>Oceania</td>\n",
       "      <td>44273</td>\n",
       "      <td>46189</td>\n",
       "      <td>51368</td>\n",
       "      <td>54849</td>\n",
       "      <td>58230</td>\n",
       "      <td>47818</td>\n",
       "      <td>32886</td>\n",
       "      <td>27075</td>\n",
       "      <td>199</td>\n",
       "      <td>222.4774</td>\n",
       "      <td>0.9831</td>\n",
       "      <td>0.00</td>\n",
       "    </tr>\n",
       "    <tr>\n",
       "      <th>4</th>\n",
       "      <td>203</td>\n",
       "      <td>AND</td>\n",
       "      <td>Andorra</td>\n",
       "      <td>Andorra la Vella</td>\n",
       "      <td>Europe</td>\n",
       "      <td>79824</td>\n",
       "      <td>77700</td>\n",
       "      <td>71746</td>\n",
       "      <td>71519</td>\n",
       "      <td>66097</td>\n",
       "      <td>53569</td>\n",
       "      <td>35611</td>\n",
       "      <td>19860</td>\n",
       "      <td>468</td>\n",
       "      <td>170.5641</td>\n",
       "      <td>1.0100</td>\n",
       "      <td>0.00</td>\n",
       "    </tr>\n",
       "    <tr>\n",
       "      <th>5</th>\n",
       "      <td>42</td>\n",
       "      <td>AGO</td>\n",
       "      <td>Angola</td>\n",
       "      <td>Luanda</td>\n",
       "      <td>Africa</td>\n",
       "      <td>35588987</td>\n",
       "      <td>33428485</td>\n",
       "      <td>28127721</td>\n",
       "      <td>23364185</td>\n",
       "      <td>16394062</td>\n",
       "      <td>11828638</td>\n",
       "      <td>8330047</td>\n",
       "      <td>6029700</td>\n",
       "      <td>1246700</td>\n",
       "      <td>28.5466</td>\n",
       "      <td>1.0315</td>\n",
       "      <td>0.45</td>\n",
       "    </tr>\n",
       "    <tr>\n",
       "      <th>6</th>\n",
       "      <td>224</td>\n",
       "      <td>AIA</td>\n",
       "      <td>Anguilla</td>\n",
       "      <td>The Valley</td>\n",
       "      <td>North America</td>\n",
       "      <td>15857</td>\n",
       "      <td>15585</td>\n",
       "      <td>14525</td>\n",
       "      <td>13172</td>\n",
       "      <td>11047</td>\n",
       "      <td>8316</td>\n",
       "      <td>6560</td>\n",
       "      <td>6283</td>\n",
       "      <td>91</td>\n",
       "      <td>174.2527</td>\n",
       "      <td>1.0066</td>\n",
       "      <td>0.00</td>\n",
       "    </tr>\n",
       "    <tr>\n",
       "      <th>7</th>\n",
       "      <td>201</td>\n",
       "      <td>ATG</td>\n",
       "      <td>Antigua and Barbuda</td>\n",
       "      <td>Saint John’s</td>\n",
       "      <td>North America</td>\n",
       "      <td>93763</td>\n",
       "      <td>92664</td>\n",
       "      <td>89941</td>\n",
       "      <td>85695</td>\n",
       "      <td>75055</td>\n",
       "      <td>63328</td>\n",
       "      <td>64888</td>\n",
       "      <td>64516</td>\n",
       "      <td>442</td>\n",
       "      <td>212.1335</td>\n",
       "      <td>1.0058</td>\n",
       "      <td>0.00</td>\n",
       "    </tr>\n",
       "    <tr>\n",
       "      <th>8</th>\n",
       "      <td>33</td>\n",
       "      <td>ARG</td>\n",
       "      <td>Argentina</td>\n",
       "      <td>Buenos Aires</td>\n",
       "      <td>South America</td>\n",
       "      <td>45510318</td>\n",
       "      <td>45036032</td>\n",
       "      <td>43257065</td>\n",
       "      <td>41100123</td>\n",
       "      <td>37070774</td>\n",
       "      <td>32637657</td>\n",
       "      <td>28024803</td>\n",
       "      <td>23842803</td>\n",
       "      <td>2780400</td>\n",
       "      <td>16.3683</td>\n",
       "      <td>1.0052</td>\n",
       "      <td>0.57</td>\n",
       "    </tr>\n",
       "    <tr>\n",
       "      <th>9</th>\n",
       "      <td>140</td>\n",
       "      <td>ARM</td>\n",
       "      <td>Armenia</td>\n",
       "      <td>Yerevan</td>\n",
       "      <td>Asia</td>\n",
       "      <td>2780469</td>\n",
       "      <td>2805608</td>\n",
       "      <td>2878595</td>\n",
       "      <td>2946293</td>\n",
       "      <td>3168523</td>\n",
       "      <td>3556539</td>\n",
       "      <td>3135123</td>\n",
       "      <td>2534377</td>\n",
       "      <td>29743</td>\n",
       "      <td>93.4831</td>\n",
       "      <td>0.9962</td>\n",
       "      <td>0.03</td>\n",
       "    </tr>\n",
       "  </tbody>\n",
       "</table>\n",
       "</div>"
      ],
      "text/plain": [
       "   Rank CCA3    Country/Territory           Capital      Continent  \\\n",
       "0    36  AFG          Afghanistan             Kabul           Asia   \n",
       "1   138  ALB              Albania            Tirana         Europe   \n",
       "2    34  DZA              Algeria           Algiers         Africa   \n",
       "3   213  ASM       American Samoa         Pago Pago        Oceania   \n",
       "4   203  AND              Andorra  Andorra la Vella         Europe   \n",
       "5    42  AGO               Angola            Luanda         Africa   \n",
       "6   224  AIA             Anguilla        The Valley  North America   \n",
       "7   201  ATG  Antigua and Barbuda      Saint John’s  North America   \n",
       "8    33  ARG            Argentina      Buenos Aires  South America   \n",
       "9   140  ARM              Armenia           Yerevan           Asia   \n",
       "\n",
       "   2022 Population  2020 Population  2015 Population  2010 Population  \\\n",
       "0         41128771         38972230         33753499         28189672   \n",
       "1          2842321          2866849          2882481          2913399   \n",
       "2         44903225         43451666         39543154         35856344   \n",
       "3            44273            46189            51368            54849   \n",
       "4            79824            77700            71746            71519   \n",
       "5         35588987         33428485         28127721         23364185   \n",
       "6            15857            15585            14525            13172   \n",
       "7            93763            92664            89941            85695   \n",
       "8         45510318         45036032         43257065         41100123   \n",
       "9          2780469          2805608          2878595          2946293   \n",
       "\n",
       "   2000 Population  1990 Population  1980 Population  1970 Population  \\\n",
       "0         19542982         10694796         12486631         10752971   \n",
       "1          3182021          3295066          2941651          2324731   \n",
       "2         30774621         25518074         18739378         13795915   \n",
       "3            58230            47818            32886            27075   \n",
       "4            66097            53569            35611            19860   \n",
       "5         16394062         11828638          8330047          6029700   \n",
       "6            11047             8316             6560             6283   \n",
       "7            75055            63328            64888            64516   \n",
       "8         37070774         32637657         28024803         23842803   \n",
       "9          3168523          3556539          3135123          2534377   \n",
       "\n",
       "   Area (km²)  Density (per km²)  Growth Rate  World Population Percentage  \n",
       "0      652230            63.0587       1.0257                         0.52  \n",
       "1       28748            98.8702       0.9957                         0.04  \n",
       "2     2381741            18.8531       1.0164                         0.56  \n",
       "3         199           222.4774       0.9831                         0.00  \n",
       "4         468           170.5641       1.0100                         0.00  \n",
       "5     1246700            28.5466       1.0315                         0.45  \n",
       "6          91           174.2527       1.0066                         0.00  \n",
       "7         442           212.1335       1.0058                         0.00  \n",
       "8     2780400            16.3683       1.0052                         0.57  \n",
       "9       29743            93.4831       0.9962                         0.03  "
      ]
     },
     "execution_count": 6,
     "metadata": {},
     "output_type": "execute_result"
    }
   ],
   "source": [
    "# what does data look like, ie variables, missing data...\n",
    "df_pop.head(10)"
   ]
  },
  {
   "cell_type": "code",
   "execution_count": 7,
   "id": "8e2bb21e",
   "metadata": {
    "execution": {
     "iopub.execute_input": "2022-10-24T20:44:33.929899Z",
     "iopub.status.busy": "2022-10-24T20:44:33.928827Z",
     "iopub.status.idle": "2022-10-24T20:44:33.957503Z",
     "shell.execute_reply": "2022-10-24T20:44:33.956209Z"
    },
    "papermill": {
     "duration": 0.038624,
     "end_time": "2022-10-24T20:44:33.959928",
     "exception": false,
     "start_time": "2022-10-24T20:44:33.921304",
     "status": "completed"
    },
    "tags": []
   },
   "outputs": [
    {
     "data": {
      "text/html": [
       "<div>\n",
       "<style scoped>\n",
       "    .dataframe tbody tr th:only-of-type {\n",
       "        vertical-align: middle;\n",
       "    }\n",
       "\n",
       "    .dataframe tbody tr th {\n",
       "        vertical-align: top;\n",
       "    }\n",
       "\n",
       "    .dataframe thead th {\n",
       "        text-align: right;\n",
       "    }\n",
       "</style>\n",
       "<table border=\"1\" class=\"dataframe\">\n",
       "  <thead>\n",
       "    <tr style=\"text-align: right;\">\n",
       "      <th></th>\n",
       "      <th>Rank</th>\n",
       "      <th>CCA3</th>\n",
       "      <th>Country/Territory</th>\n",
       "      <th>Capital</th>\n",
       "      <th>Continent</th>\n",
       "      <th>2022</th>\n",
       "      <th>2020</th>\n",
       "      <th>2015</th>\n",
       "      <th>2010</th>\n",
       "      <th>2000</th>\n",
       "      <th>1990</th>\n",
       "      <th>1980</th>\n",
       "      <th>1970</th>\n",
       "      <th>Area</th>\n",
       "      <th>Density</th>\n",
       "      <th>Growth Rate</th>\n",
       "      <th>World Population Percentage</th>\n",
       "    </tr>\n",
       "  </thead>\n",
       "  <tbody>\n",
       "    <tr>\n",
       "      <th>0</th>\n",
       "      <td>36</td>\n",
       "      <td>AFG</td>\n",
       "      <td>Afghanistan</td>\n",
       "      <td>Kabul</td>\n",
       "      <td>Asia</td>\n",
       "      <td>41128771</td>\n",
       "      <td>38972230</td>\n",
       "      <td>33753499</td>\n",
       "      <td>28189672</td>\n",
       "      <td>19542982</td>\n",
       "      <td>10694796</td>\n",
       "      <td>12486631</td>\n",
       "      <td>10752971</td>\n",
       "      <td>652230</td>\n",
       "      <td>63.0587</td>\n",
       "      <td>1.0257</td>\n",
       "      <td>0.52</td>\n",
       "    </tr>\n",
       "    <tr>\n",
       "      <th>1</th>\n",
       "      <td>138</td>\n",
       "      <td>ALB</td>\n",
       "      <td>Albania</td>\n",
       "      <td>Tirana</td>\n",
       "      <td>Europe</td>\n",
       "      <td>2842321</td>\n",
       "      <td>2866849</td>\n",
       "      <td>2882481</td>\n",
       "      <td>2913399</td>\n",
       "      <td>3182021</td>\n",
       "      <td>3295066</td>\n",
       "      <td>2941651</td>\n",
       "      <td>2324731</td>\n",
       "      <td>28748</td>\n",
       "      <td>98.8702</td>\n",
       "      <td>0.9957</td>\n",
       "      <td>0.04</td>\n",
       "    </tr>\n",
       "    <tr>\n",
       "      <th>2</th>\n",
       "      <td>34</td>\n",
       "      <td>DZA</td>\n",
       "      <td>Algeria</td>\n",
       "      <td>Algiers</td>\n",
       "      <td>Africa</td>\n",
       "      <td>44903225</td>\n",
       "      <td>43451666</td>\n",
       "      <td>39543154</td>\n",
       "      <td>35856344</td>\n",
       "      <td>30774621</td>\n",
       "      <td>25518074</td>\n",
       "      <td>18739378</td>\n",
       "      <td>13795915</td>\n",
       "      <td>2381741</td>\n",
       "      <td>18.8531</td>\n",
       "      <td>1.0164</td>\n",
       "      <td>0.56</td>\n",
       "    </tr>\n",
       "    <tr>\n",
       "      <th>3</th>\n",
       "      <td>213</td>\n",
       "      <td>ASM</td>\n",
       "      <td>American Samoa</td>\n",
       "      <td>Pago Pago</td>\n",
       "      <td>Oceania</td>\n",
       "      <td>44273</td>\n",
       "      <td>46189</td>\n",
       "      <td>51368</td>\n",
       "      <td>54849</td>\n",
       "      <td>58230</td>\n",
       "      <td>47818</td>\n",
       "      <td>32886</td>\n",
       "      <td>27075</td>\n",
       "      <td>199</td>\n",
       "      <td>222.4774</td>\n",
       "      <td>0.9831</td>\n",
       "      <td>0.00</td>\n",
       "    </tr>\n",
       "    <tr>\n",
       "      <th>4</th>\n",
       "      <td>203</td>\n",
       "      <td>AND</td>\n",
       "      <td>Andorra</td>\n",
       "      <td>Andorra la Vella</td>\n",
       "      <td>Europe</td>\n",
       "      <td>79824</td>\n",
       "      <td>77700</td>\n",
       "      <td>71746</td>\n",
       "      <td>71519</td>\n",
       "      <td>66097</td>\n",
       "      <td>53569</td>\n",
       "      <td>35611</td>\n",
       "      <td>19860</td>\n",
       "      <td>468</td>\n",
       "      <td>170.5641</td>\n",
       "      <td>1.0100</td>\n",
       "      <td>0.00</td>\n",
       "    </tr>\n",
       "  </tbody>\n",
       "</table>\n",
       "</div>"
      ],
      "text/plain": [
       "   Rank CCA3 Country/Territory           Capital Continent      2022  \\\n",
       "0    36  AFG       Afghanistan             Kabul      Asia  41128771   \n",
       "1   138  ALB           Albania            Tirana    Europe   2842321   \n",
       "2    34  DZA           Algeria           Algiers    Africa  44903225   \n",
       "3   213  ASM    American Samoa         Pago Pago   Oceania     44273   \n",
       "4   203  AND           Andorra  Andorra la Vella    Europe     79824   \n",
       "\n",
       "       2020      2015      2010      2000      1990      1980      1970  \\\n",
       "0  38972230  33753499  28189672  19542982  10694796  12486631  10752971   \n",
       "1   2866849   2882481   2913399   3182021   3295066   2941651   2324731   \n",
       "2  43451666  39543154  35856344  30774621  25518074  18739378  13795915   \n",
       "3     46189     51368     54849     58230     47818     32886     27075   \n",
       "4     77700     71746     71519     66097     53569     35611     19860   \n",
       "\n",
       "      Area   Density  Growth Rate  World Population Percentage  \n",
       "0   652230   63.0587       1.0257                         0.52  \n",
       "1    28748   98.8702       0.9957                         0.04  \n",
       "2  2381741   18.8531       1.0164                         0.56  \n",
       "3      199  222.4774       0.9831                         0.00  \n",
       "4      468  170.5641       1.0100                         0.00  "
      ]
     },
     "execution_count": 7,
     "metadata": {},
     "output_type": "execute_result"
    }
   ],
   "source": [
    "# change names of X population year to its year\n",
    "for col in df_pop.columns:\n",
    "    if 'Poplulation' and '0' in col:\n",
    "        df_pop = df_pop.rename(columns = {col: col.split(' ')[0]})\n",
    "        \n",
    "df_pop.rename(columns = {'Density (per km²)': 'Density', 'Area (km²)' : 'Area'}, inplace = True)\n",
    "        \n",
    "df_pop.head()"
   ]
  },
  {
   "cell_type": "code",
   "execution_count": 8,
   "id": "c6649d41",
   "metadata": {
    "execution": {
     "iopub.execute_input": "2022-10-24T20:44:33.975017Z",
     "iopub.status.busy": "2022-10-24T20:44:33.974089Z",
     "iopub.status.idle": "2022-10-24T20:44:33.995781Z",
     "shell.execute_reply": "2022-10-24T20:44:33.994575Z"
    },
    "papermill": {
     "duration": 0.031675,
     "end_time": "2022-10-24T20:44:33.998156",
     "exception": false,
     "start_time": "2022-10-24T20:44:33.966481",
     "status": "completed"
    },
    "tags": []
   },
   "outputs": [
    {
     "data": {
      "text/html": [
       "<div>\n",
       "<style scoped>\n",
       "    .dataframe tbody tr th:only-of-type {\n",
       "        vertical-align: middle;\n",
       "    }\n",
       "\n",
       "    .dataframe tbody tr th {\n",
       "        vertical-align: top;\n",
       "    }\n",
       "\n",
       "    .dataframe thead th {\n",
       "        text-align: right;\n",
       "    }\n",
       "</style>\n",
       "<table border=\"1\" class=\"dataframe\">\n",
       "  <thead>\n",
       "    <tr style=\"text-align: right;\">\n",
       "      <th></th>\n",
       "      <th>Rank</th>\n",
       "      <th>Country/Territory</th>\n",
       "      <th>Continent</th>\n",
       "      <th>2022</th>\n",
       "      <th>2020</th>\n",
       "      <th>2015</th>\n",
       "      <th>2010</th>\n",
       "      <th>2000</th>\n",
       "      <th>1990</th>\n",
       "      <th>1980</th>\n",
       "      <th>1970</th>\n",
       "      <th>Area</th>\n",
       "      <th>Density</th>\n",
       "      <th>Growth Rate</th>\n",
       "      <th>World Population Percentage</th>\n",
       "    </tr>\n",
       "  </thead>\n",
       "  <tbody>\n",
       "    <tr>\n",
       "      <th>0</th>\n",
       "      <td>36</td>\n",
       "      <td>Afghanistan</td>\n",
       "      <td>Asia</td>\n",
       "      <td>41128771</td>\n",
       "      <td>38972230</td>\n",
       "      <td>33753499</td>\n",
       "      <td>28189672</td>\n",
       "      <td>19542982</td>\n",
       "      <td>10694796</td>\n",
       "      <td>12486631</td>\n",
       "      <td>10752971</td>\n",
       "      <td>652230</td>\n",
       "      <td>63.0587</td>\n",
       "      <td>1.0257</td>\n",
       "      <td>0.52</td>\n",
       "    </tr>\n",
       "    <tr>\n",
       "      <th>1</th>\n",
       "      <td>138</td>\n",
       "      <td>Albania</td>\n",
       "      <td>Europe</td>\n",
       "      <td>2842321</td>\n",
       "      <td>2866849</td>\n",
       "      <td>2882481</td>\n",
       "      <td>2913399</td>\n",
       "      <td>3182021</td>\n",
       "      <td>3295066</td>\n",
       "      <td>2941651</td>\n",
       "      <td>2324731</td>\n",
       "      <td>28748</td>\n",
       "      <td>98.8702</td>\n",
       "      <td>0.9957</td>\n",
       "      <td>0.04</td>\n",
       "    </tr>\n",
       "    <tr>\n",
       "      <th>2</th>\n",
       "      <td>34</td>\n",
       "      <td>Algeria</td>\n",
       "      <td>Africa</td>\n",
       "      <td>44903225</td>\n",
       "      <td>43451666</td>\n",
       "      <td>39543154</td>\n",
       "      <td>35856344</td>\n",
       "      <td>30774621</td>\n",
       "      <td>25518074</td>\n",
       "      <td>18739378</td>\n",
       "      <td>13795915</td>\n",
       "      <td>2381741</td>\n",
       "      <td>18.8531</td>\n",
       "      <td>1.0164</td>\n",
       "      <td>0.56</td>\n",
       "    </tr>\n",
       "    <tr>\n",
       "      <th>3</th>\n",
       "      <td>213</td>\n",
       "      <td>American Samoa</td>\n",
       "      <td>Oceania</td>\n",
       "      <td>44273</td>\n",
       "      <td>46189</td>\n",
       "      <td>51368</td>\n",
       "      <td>54849</td>\n",
       "      <td>58230</td>\n",
       "      <td>47818</td>\n",
       "      <td>32886</td>\n",
       "      <td>27075</td>\n",
       "      <td>199</td>\n",
       "      <td>222.4774</td>\n",
       "      <td>0.9831</td>\n",
       "      <td>0.00</td>\n",
       "    </tr>\n",
       "    <tr>\n",
       "      <th>4</th>\n",
       "      <td>203</td>\n",
       "      <td>Andorra</td>\n",
       "      <td>Europe</td>\n",
       "      <td>79824</td>\n",
       "      <td>77700</td>\n",
       "      <td>71746</td>\n",
       "      <td>71519</td>\n",
       "      <td>66097</td>\n",
       "      <td>53569</td>\n",
       "      <td>35611</td>\n",
       "      <td>19860</td>\n",
       "      <td>468</td>\n",
       "      <td>170.5641</td>\n",
       "      <td>1.0100</td>\n",
       "      <td>0.00</td>\n",
       "    </tr>\n",
       "  </tbody>\n",
       "</table>\n",
       "</div>"
      ],
      "text/plain": [
       "   Rank Country/Territory Continent      2022      2020      2015      2010  \\\n",
       "0    36       Afghanistan      Asia  41128771  38972230  33753499  28189672   \n",
       "1   138           Albania    Europe   2842321   2866849   2882481   2913399   \n",
       "2    34           Algeria    Africa  44903225  43451666  39543154  35856344   \n",
       "3   213    American Samoa   Oceania     44273     46189     51368     54849   \n",
       "4   203           Andorra    Europe     79824     77700     71746     71519   \n",
       "\n",
       "       2000      1990      1980      1970     Area   Density  Growth Rate  \\\n",
       "0  19542982  10694796  12486631  10752971   652230   63.0587       1.0257   \n",
       "1   3182021   3295066   2941651   2324731    28748   98.8702       0.9957   \n",
       "2  30774621  25518074  18739378  13795915  2381741   18.8531       1.0164   \n",
       "3     58230     47818     32886     27075      199  222.4774       0.9831   \n",
       "4     66097     53569     35611     19860      468  170.5641       1.0100   \n",
       "\n",
       "   World Population Percentage  \n",
       "0                         0.52  \n",
       "1                         0.04  \n",
       "2                         0.56  \n",
       "3                         0.00  \n",
       "4                         0.00  "
      ]
     },
     "execution_count": 8,
     "metadata": {},
     "output_type": "execute_result"
    }
   ],
   "source": [
    "# drop columns not needed\n",
    "df_pop_new = df_pop.drop(['CCA3', 'Capital'], axis = 1)\n",
    "df_pop_new.head()"
   ]
  },
  {
   "cell_type": "code",
   "execution_count": 9,
   "id": "e7f11874",
   "metadata": {
    "execution": {
     "iopub.execute_input": "2022-10-24T20:44:34.013557Z",
     "iopub.status.busy": "2022-10-24T20:44:34.013143Z",
     "iopub.status.idle": "2022-10-24T20:44:34.021472Z",
     "shell.execute_reply": "2022-10-24T20:44:34.020173Z"
    },
    "papermill": {
     "duration": 0.019711,
     "end_time": "2022-10-24T20:44:34.024739",
     "exception": false,
     "start_time": "2022-10-24T20:44:34.005028",
     "status": "completed"
    },
    "tags": []
   },
   "outputs": [
    {
     "name": "stdout",
     "output_type": "stream",
     "text": [
      "Number of missing values: \n",
      " Rank                           0\n",
      "Country/Territory              0\n",
      "Continent                      0\n",
      "2022                           0\n",
      "2020                           0\n",
      "2015                           0\n",
      "2010                           0\n",
      "2000                           0\n",
      "1990                           0\n",
      "1980                           0\n",
      "1970                           0\n",
      "Area                           0\n",
      "Density                        0\n",
      "Growth Rate                    0\n",
      "World Population Percentage    0\n",
      "dtype: int64 \n",
      "\n"
     ]
    }
   ],
   "source": [
    "# missing values\n",
    "\n",
    "print('Number of missing values: \\n', df_pop_new.isnull().sum(), '\\n')\n",
    "\n",
    "# there are no missing values. However we see above some values are 0 in world percentage\n",
    "# is this because smallest countries rightfully make up the smallest percentage "
   ]
  },
  {
   "cell_type": "code",
   "execution_count": 10,
   "id": "06fa258b",
   "metadata": {
    "execution": {
     "iopub.execute_input": "2022-10-24T20:44:34.040854Z",
     "iopub.status.busy": "2022-10-24T20:44:34.040474Z",
     "iopub.status.idle": "2022-10-24T20:44:34.052963Z",
     "shell.execute_reply": "2022-10-24T20:44:34.051456Z"
    },
    "papermill": {
     "duration": 0.023456,
     "end_time": "2022-10-24T20:44:34.055746",
     "exception": false,
     "start_time": "2022-10-24T20:44:34.032290",
     "status": "completed"
    },
    "tags": []
   },
   "outputs": [
    {
     "name": "stdout",
     "output_type": "stream",
     "text": [
      "Number of unique values: \n",
      " Rank                           234\n",
      "Country/Territory              234\n",
      "Continent                        6\n",
      "2022                           234\n",
      "2020                           234\n",
      "2015                           234\n",
      "2010                           234\n",
      "2000                           234\n",
      "1990                           234\n",
      "1980                           234\n",
      "1970                           234\n",
      "Area                           233\n",
      "Density                        234\n",
      "Growth Rate                    180\n",
      "World Population Percentage     70\n",
      "dtype: int64\n"
     ]
    }
   ],
   "source": [
    "# Unique values for the dataframe\n",
    "print('Number of unique values: \\n', df_pop_new.nunique())"
   ]
  },
  {
   "cell_type": "code",
   "execution_count": 11,
   "id": "ffa7ee01",
   "metadata": {
    "execution": {
     "iopub.execute_input": "2022-10-24T20:44:34.071625Z",
     "iopub.status.busy": "2022-10-24T20:44:34.071246Z",
     "iopub.status.idle": "2022-10-24T20:44:34.079894Z",
     "shell.execute_reply": "2022-10-24T20:44:34.078747Z"
    },
    "papermill": {
     "duration": 0.019977,
     "end_time": "2022-10-24T20:44:34.082947",
     "exception": false,
     "start_time": "2022-10-24T20:44:34.062970",
     "status": "completed"
    },
    "tags": []
   },
   "outputs": [
    {
     "name": "stdout",
     "output_type": "stream",
     "text": [
      "Names of countries: \n",
      " ['Afghanistan' 'Albania' 'Algeria' 'American Samoa' 'Andorra' 'Angola'\n",
      " 'Anguilla' 'Antigua and Barbuda' 'Argentina' 'Armenia' 'Aruba'\n",
      " 'Australia' 'Austria' 'Azerbaijan' 'Bahamas' 'Bahrain' 'Bangladesh'\n",
      " 'Barbados' 'Belarus' 'Belgium' 'Belize' 'Benin' 'Bermuda' 'Bhutan'\n",
      " 'Bolivia' 'Bosnia and Herzegovina' 'Botswana' 'Brazil'\n",
      " 'British Virgin Islands' 'Brunei' 'Bulgaria' 'Burkina Faso' 'Burundi'\n",
      " 'Cambodia' 'Cameroon' 'Canada' 'Cape Verde' 'Cayman Islands'\n",
      " 'Central African Republic' 'Chad' 'Chile' 'China' 'Colombia' 'Comoros'\n",
      " 'Cook Islands' 'Costa Rica' 'Croatia' 'Cuba' 'Curacao' 'Cyprus'\n",
      " 'Czech Republic' 'Denmark' 'Djibouti' 'Dominica' 'Dominican Republic'\n",
      " 'DR Congo' 'Ecuador' 'Egypt' 'El Salvador' 'Equatorial Guinea' 'Eritrea'\n",
      " 'Estonia' 'Eswatini' 'Ethiopia' 'Falkland Islands' 'Faroe Islands' 'Fiji'\n",
      " 'Finland' 'France' 'French Guiana' 'French Polynesia' 'Gabon' 'Gambia'\n",
      " 'Georgia' 'Germany' 'Ghana' 'Gibraltar' 'Greece' 'Greenland' 'Grenada'\n",
      " 'Guadeloupe' 'Guam' 'Guatemala' 'Guernsey' 'Guinea' 'Guinea-Bissau'\n",
      " 'Guyana' 'Haiti' 'Honduras' 'Hong Kong' 'Hungary' 'Iceland' 'India'\n",
      " 'Indonesia' 'Iran' 'Iraq' 'Ireland' 'Isle of Man' 'Israel' 'Italy'\n",
      " 'Ivory Coast' 'Jamaica' 'Japan' 'Jersey' 'Jordan' 'Kazakhstan' 'Kenya'\n",
      " 'Kiribati' 'Kuwait' 'Kyrgyzstan' 'Laos' 'Latvia' 'Lebanon' 'Lesotho'\n",
      " 'Liberia' 'Libya' 'Liechtenstein' 'Lithuania' 'Luxembourg' 'Macau'\n",
      " 'Madagascar' 'Malawi' 'Malaysia' 'Maldives' 'Mali' 'Malta'\n",
      " 'Marshall Islands' 'Martinique' 'Mauritania' 'Mauritius' 'Mayotte'\n",
      " 'Mexico' 'Micronesia' 'Moldova' 'Monaco' 'Mongolia' 'Montenegro'\n",
      " 'Montserrat' 'Morocco' 'Mozambique' 'Myanmar' 'Namibia' 'Nauru' 'Nepal'\n",
      " 'Netherlands' 'New Caledonia' 'New Zealand' 'Nicaragua' 'Niger' 'Nigeria'\n",
      " 'Niue' 'North Korea' 'North Macedonia' 'Northern Mariana Islands'\n",
      " 'Norway' 'Oman' 'Pakistan' 'Palau' 'Palestine' 'Panama'\n",
      " 'Papua New Guinea' 'Paraguay' 'Peru' 'Philippines' 'Poland' 'Portugal'\n",
      " 'Puerto Rico' 'Qatar' 'Republic of the Congo' 'Reunion' 'Romania'\n",
      " 'Russia' 'Rwanda' 'Saint Barthelemy' 'Saint Kitts and Nevis'\n",
      " 'Saint Lucia' 'Saint Martin' 'Saint Pierre and Miquelon'\n",
      " 'Saint Vincent and the Grenadines' 'Samoa' 'San Marino'\n",
      " 'Sao Tome and Principe' 'Saudi Arabia' 'Senegal' 'Serbia' 'Seychelles'\n",
      " 'Sierra Leone' 'Singapore' 'Sint Maarten' 'Slovakia' 'Slovenia'\n",
      " 'Solomon Islands' 'Somalia' 'South Africa' 'South Korea' 'South Sudan'\n",
      " 'Spain' 'Sri Lanka' 'Sudan' 'Suriname' 'Sweden' 'Switzerland' 'Syria'\n",
      " 'Taiwan' 'Tajikistan' 'Tanzania' 'Thailand' 'Timor-Leste' 'Togo'\n",
      " 'Tokelau' 'Tonga' 'Trinidad and Tobago' 'Tunisia' 'Turkey' 'Turkmenistan'\n",
      " 'Turks and Caicos Islands' 'Tuvalu' 'Uganda' 'Ukraine'\n",
      " 'United Arab Emirates' 'United Kingdom' 'United States'\n",
      " 'United States Virgin Islands' 'Uruguay' 'Uzbekistan' 'Vanuatu'\n",
      " 'Vatican City' 'Venezuela' 'Vietnam' 'Wallis and Futuna' 'Western Sahara'\n",
      " 'Yemen' 'Zambia' 'Zimbabwe']\n"
     ]
    }
   ],
   "source": [
    "# Unique values (repeats) for the column countries. \n",
    "print('Names of countries: \\n', df_pop_new['Country/Territory'].unique())\n",
    "\n",
    "#we can use this to see if there are duplicated values but spelled differently"
   ]
  },
  {
   "cell_type": "code",
   "execution_count": 12,
   "id": "40618812",
   "metadata": {
    "execution": {
     "iopub.execute_input": "2022-10-24T20:44:34.100349Z",
     "iopub.status.busy": "2022-10-24T20:44:34.099895Z",
     "iopub.status.idle": "2022-10-24T20:44:34.111374Z",
     "shell.execute_reply": "2022-10-24T20:44:34.110568Z"
    },
    "papermill": {
     "duration": 0.022439,
     "end_time": "2022-10-24T20:44:34.113575",
     "exception": false,
     "start_time": "2022-10-24T20:44:34.091136",
     "status": "completed"
    },
    "tags": []
   },
   "outputs": [
    {
     "data": {
      "text/plain": [
       "0"
      ]
     },
     "execution_count": 12,
     "metadata": {},
     "output_type": "execute_result"
    }
   ],
   "source": [
    "# Find total duplicates\n",
    "df_pop_new.duplicated().sum()"
   ]
  },
  {
   "cell_type": "code",
   "execution_count": 13,
   "id": "df7abbb5",
   "metadata": {
    "execution": {
     "iopub.execute_input": "2022-10-24T20:44:34.130549Z",
     "iopub.status.busy": "2022-10-24T20:44:34.130095Z",
     "iopub.status.idle": "2022-10-24T20:44:34.143664Z",
     "shell.execute_reply": "2022-10-24T20:44:34.142839Z"
    },
    "papermill": {
     "duration": 0.023861,
     "end_time": "2022-10-24T20:44:34.145741",
     "exception": false,
     "start_time": "2022-10-24T20:44:34.121880",
     "status": "completed"
    },
    "tags": []
   },
   "outputs": [
    {
     "data": {
      "text/plain": [
       "Rank                           0.0\n",
       "Country/Territory              0.0\n",
       "Continent                      0.0\n",
       "2022                           0.0\n",
       "2020                           0.0\n",
       "2015                           0.0\n",
       "2010                           0.0\n",
       "2000                           0.0\n",
       "1990                           0.0\n",
       "1980                           0.0\n",
       "1970                           0.0\n",
       "Area                           0.0\n",
       "Density                        0.0\n",
       "Growth Rate                    0.0\n",
       "World Population Percentage    0.0\n",
       "dtype: float64"
      ]
     },
     "execution_count": 13,
     "metadata": {},
     "output_type": "execute_result"
    }
   ],
   "source": [
    "#if there were any then we could use this to find in what columns\n",
    "df_pop_new[df_pop_new.duplicated()].sum()"
   ]
  },
  {
   "cell_type": "code",
   "execution_count": 14,
   "id": "60b72eec",
   "metadata": {
    "execution": {
     "iopub.execute_input": "2022-10-24T20:44:34.162010Z",
     "iopub.status.busy": "2022-10-24T20:44:34.161636Z",
     "iopub.status.idle": "2022-10-24T20:44:34.171166Z",
     "shell.execute_reply": "2022-10-24T20:44:34.170394Z"
    },
    "papermill": {
     "duration": 0.019972,
     "end_time": "2022-10-24T20:44:34.173111",
     "exception": false,
     "start_time": "2022-10-24T20:44:34.153139",
     "status": "completed"
    },
    "tags": []
   },
   "outputs": [
    {
     "data": {
      "text/plain": [
       "Africa           57\n",
       "Asia             50\n",
       "Europe           50\n",
       "North America    40\n",
       "Oceania          23\n",
       "South America    14\n",
       "Name: Continent, dtype: int64"
      ]
     },
     "execution_count": 14,
     "metadata": {},
     "output_type": "execute_result"
    }
   ],
   "source": [
    "# how many countries are counted in each Continent\n",
    "\n",
    "continent_values = df_pop_new.Continent.value_counts()\n",
    "continent_values"
   ]
  },
  {
   "cell_type": "code",
   "execution_count": 15,
   "id": "e76d688c",
   "metadata": {
    "execution": {
     "iopub.execute_input": "2022-10-24T20:44:34.189386Z",
     "iopub.status.busy": "2022-10-24T20:44:34.188893Z",
     "iopub.status.idle": "2022-10-24T20:44:34.202493Z",
     "shell.execute_reply": "2022-10-24T20:44:34.201246Z"
    },
    "papermill": {
     "duration": 0.024655,
     "end_time": "2022-10-24T20:44:34.205002",
     "exception": false,
     "start_time": "2022-10-24T20:44:34.180347",
     "status": "completed"
    },
    "tags": []
   },
   "outputs": [
    {
     "data": {
      "text/html": [
       "<div>\n",
       "<style scoped>\n",
       "    .dataframe tbody tr th:only-of-type {\n",
       "        vertical-align: middle;\n",
       "    }\n",
       "\n",
       "    .dataframe tbody tr th {\n",
       "        vertical-align: top;\n",
       "    }\n",
       "\n",
       "    .dataframe thead th {\n",
       "        text-align: right;\n",
       "    }\n",
       "</style>\n",
       "<table border=\"1\" class=\"dataframe\">\n",
       "  <thead>\n",
       "    <tr style=\"text-align: right;\">\n",
       "      <th></th>\n",
       "      <th>Rank</th>\n",
       "      <th>Country/Territory</th>\n",
       "    </tr>\n",
       "  </thead>\n",
       "  <tbody>\n",
       "    <tr>\n",
       "      <th>41</th>\n",
       "      <td>1</td>\n",
       "      <td>China</td>\n",
       "    </tr>\n",
       "    <tr>\n",
       "      <th>92</th>\n",
       "      <td>2</td>\n",
       "      <td>India</td>\n",
       "    </tr>\n",
       "    <tr>\n",
       "      <th>221</th>\n",
       "      <td>3</td>\n",
       "      <td>United States</td>\n",
       "    </tr>\n",
       "    <tr>\n",
       "      <th>93</th>\n",
       "      <td>4</td>\n",
       "      <td>Indonesia</td>\n",
       "    </tr>\n",
       "    <tr>\n",
       "      <th>156</th>\n",
       "      <td>5</td>\n",
       "      <td>Pakistan</td>\n",
       "    </tr>\n",
       "  </tbody>\n",
       "</table>\n",
       "</div>"
      ],
      "text/plain": [
       "     Rank Country/Territory\n",
       "41      1             China\n",
       "92      2             India\n",
       "221     3     United States\n",
       "93      4         Indonesia\n",
       "156     5          Pakistan"
      ]
     },
     "execution_count": 15,
     "metadata": {},
     "output_type": "execute_result"
    }
   ],
   "source": [
    "# Top 5 Ranks\n",
    "rank= df_pop_new[['Rank','Country/Territory']].sort_values('Rank').head()\n",
    "rank"
   ]
  },
  {
   "cell_type": "code",
   "execution_count": 16,
   "id": "07ca0fe8",
   "metadata": {
    "execution": {
     "iopub.execute_input": "2022-10-24T20:44:34.222005Z",
     "iopub.status.busy": "2022-10-24T20:44:34.221646Z",
     "iopub.status.idle": "2022-10-24T20:44:34.465338Z",
     "shell.execute_reply": "2022-10-24T20:44:34.463987Z"
    },
    "papermill": {
     "duration": 0.255484,
     "end_time": "2022-10-24T20:44:34.468074",
     "exception": false,
     "start_time": "2022-10-24T20:44:34.212590",
     "status": "completed"
    },
    "tags": []
   },
   "outputs": [
    {
     "data": {
      "image/png": "[encoded data removed]",
      "text/plain": [
       "<Figure size 648x360 with 1 Axes>"
      ]
     },
     "metadata": {
      "needs_background": "light"
     },
     "output_type": "display_data"
    }
   ],
   "source": [
    "#plot bar chart of top 5 ranks\n",
    "plt.style.use('_mpl-gallery')\n",
    "\n",
    "plt.figure(figsize=(9, 5))\n",
    "plt.bar(rank['Country/Territory'], rank['Rank'])\n",
    "plt.title('Country/Territory Vs Rank', fontsize=14)\n",
    "plt.xlabel('Country/Territory', fontsize=14)\n",
    "plt.ylabel('Rank', fontsize=14)\n",
    "plt.show()"
   ]
  },
  {
   "cell_type": "code",
   "execution_count": 17,
   "id": "7a9d7379",
   "metadata": {
    "execution": {
     "iopub.execute_input": "2022-10-24T20:44:34.485919Z",
     "iopub.status.busy": "2022-10-24T20:44:34.485527Z",
     "iopub.status.idle": "2022-10-24T20:44:34.498709Z",
     "shell.execute_reply": "2022-10-24T20:44:34.497540Z"
    },
    "papermill": {
     "duration": 0.024744,
     "end_time": "2022-10-24T20:44:34.500943",
     "exception": false,
     "start_time": "2022-10-24T20:44:34.476199",
     "status": "completed"
    },
    "tags": []
   },
   "outputs": [
    {
     "data": {
      "text/html": [
       "<div>\n",
       "<style scoped>\n",
       "    .dataframe tbody tr th:only-of-type {\n",
       "        vertical-align: middle;\n",
       "    }\n",
       "\n",
       "    .dataframe tbody tr th {\n",
       "        vertical-align: top;\n",
       "    }\n",
       "\n",
       "    .dataframe thead th {\n",
       "        text-align: right;\n",
       "    }\n",
       "</style>\n",
       "<table border=\"1\" class=\"dataframe\">\n",
       "  <thead>\n",
       "    <tr style=\"text-align: right;\">\n",
       "      <th></th>\n",
       "      <th>2022</th>\n",
       "      <th>Country/Territory</th>\n",
       "    </tr>\n",
       "  </thead>\n",
       "  <tbody>\n",
       "    <tr>\n",
       "      <th>41</th>\n",
       "      <td>1425887337</td>\n",
       "      <td>China</td>\n",
       "    </tr>\n",
       "    <tr>\n",
       "      <th>92</th>\n",
       "      <td>1417173173</td>\n",
       "      <td>India</td>\n",
       "    </tr>\n",
       "    <tr>\n",
       "      <th>221</th>\n",
       "      <td>338289857</td>\n",
       "      <td>United States</td>\n",
       "    </tr>\n",
       "    <tr>\n",
       "      <th>93</th>\n",
       "      <td>275501339</td>\n",
       "      <td>Indonesia</td>\n",
       "    </tr>\n",
       "    <tr>\n",
       "      <th>156</th>\n",
       "      <td>235824862</td>\n",
       "      <td>Pakistan</td>\n",
       "    </tr>\n",
       "  </tbody>\n",
       "</table>\n",
       "</div>"
      ],
      "text/plain": [
       "           2022 Country/Territory\n",
       "41   1425887337             China\n",
       "92   1417173173             India\n",
       "221   338289857     United States\n",
       "93    275501339         Indonesia\n",
       "156   235824862          Pakistan"
      ]
     },
     "execution_count": 17,
     "metadata": {},
     "output_type": "execute_result"
    }
   ],
   "source": [
    "#Top 5 populations\n",
    "pop = df_pop_new[['2022','Country/Territory']].sort_values('2022', ascending = False).head()\n",
    "pop"
   ]
  },
  {
   "cell_type": "code",
   "execution_count": 18,
   "id": "76929de0",
   "metadata": {
    "execution": {
     "iopub.execute_input": "2022-10-24T20:44:34.519632Z",
     "iopub.status.busy": "2022-10-24T20:44:34.518943Z",
     "iopub.status.idle": "2022-10-24T20:44:34.745493Z",
     "shell.execute_reply": "2022-10-24T20:44:34.744297Z"
    },
    "papermill": {
     "duration": 0.238555,
     "end_time": "2022-10-24T20:44:34.747942",
     "exception": false,
     "start_time": "2022-10-24T20:44:34.509387",
     "status": "completed"
    },
    "tags": []
   },
   "outputs": [
    {
     "data": {
      "image/png": "[encoded data removed]",
      "text/plain": [
       "<Figure size 648x360 with 1 Axes>"
      ]
     },
     "metadata": {
      "needs_background": "light"
     },
     "output_type": "display_data"
    }
   ],
   "source": [
    "plt.figure(figsize=(9, 5))\n",
    "plt.bar(pop['Country/Territory'], pop['2022'])\n",
    "plt.title('Country/Territory Vs Pop in 2022')\n",
    "plt.xlabel('Country/Territory')\n",
    "plt.ylabel('Population (millions)')\n",
    "plt.show()"
   ]
  },
  {
   "cell_type": "code",
   "execution_count": 19,
   "id": "7a9e743e",
   "metadata": {
    "execution": {
     "iopub.execute_input": "2022-10-24T20:44:34.768000Z",
     "iopub.status.busy": "2022-10-24T20:44:34.766739Z",
     "iopub.status.idle": "2022-10-24T20:44:34.780429Z",
     "shell.execute_reply": "2022-10-24T20:44:34.779151Z"
    },
    "papermill": {
     "duration": 0.026466,
     "end_time": "2022-10-24T20:44:34.782897",
     "exception": false,
     "start_time": "2022-10-24T20:44:34.756431",
     "status": "completed"
    },
    "tags": []
   },
   "outputs": [
    {
     "data": {
      "text/html": [
       "<div>\n",
       "<style scoped>\n",
       "    .dataframe tbody tr th:only-of-type {\n",
       "        vertical-align: middle;\n",
       "    }\n",
       "\n",
       "    .dataframe tbody tr th {\n",
       "        vertical-align: top;\n",
       "    }\n",
       "\n",
       "    .dataframe thead th {\n",
       "        text-align: right;\n",
       "    }\n",
       "</style>\n",
       "<table border=\"1\" class=\"dataframe\">\n",
       "  <thead>\n",
       "    <tr style=\"text-align: right;\">\n",
       "      <th></th>\n",
       "      <th>World Population Percentage</th>\n",
       "      <th>Country/Territory</th>\n",
       "    </tr>\n",
       "  </thead>\n",
       "  <tbody>\n",
       "    <tr>\n",
       "      <th>41</th>\n",
       "      <td>17.88</td>\n",
       "      <td>China</td>\n",
       "    </tr>\n",
       "    <tr>\n",
       "      <th>92</th>\n",
       "      <td>17.77</td>\n",
       "      <td>India</td>\n",
       "    </tr>\n",
       "    <tr>\n",
       "      <th>221</th>\n",
       "      <td>4.24</td>\n",
       "      <td>United States</td>\n",
       "    </tr>\n",
       "    <tr>\n",
       "      <th>93</th>\n",
       "      <td>3.45</td>\n",
       "      <td>Indonesia</td>\n",
       "    </tr>\n",
       "    <tr>\n",
       "      <th>156</th>\n",
       "      <td>2.96</td>\n",
       "      <td>Pakistan</td>\n",
       "    </tr>\n",
       "  </tbody>\n",
       "</table>\n",
       "</div>"
      ],
      "text/plain": [
       "     World Population Percentage Country/Territory\n",
       "41                         17.88             China\n",
       "92                         17.77             India\n",
       "221                         4.24     United States\n",
       "93                          3.45         Indonesia\n",
       "156                         2.96          Pakistan"
      ]
     },
     "execution_count": 19,
     "metadata": {},
     "output_type": "execute_result"
    }
   ],
   "source": [
    "#Top 5 World Population Percentage\n",
    "\n",
    "pop_prct = df_pop_new[['World Population Percentage','Country/Territory']].sort_values('World Population Percentage', ascending = False).head()\n",
    "pop_prct"
   ]
  },
  {
   "cell_type": "code",
   "execution_count": 20,
   "id": "db828a74",
   "metadata": {
    "execution": {
     "iopub.execute_input": "2022-10-24T20:44:34.801731Z",
     "iopub.status.busy": "2022-10-24T20:44:34.801357Z",
     "iopub.status.idle": "2022-10-24T20:44:34.814385Z",
     "shell.execute_reply": "2022-10-24T20:44:34.813305Z"
    },
    "papermill": {
     "duration": 0.025425,
     "end_time": "2022-10-24T20:44:34.816755",
     "exception": false,
     "start_time": "2022-10-24T20:44:34.791330",
     "status": "completed"
    },
    "tags": []
   },
   "outputs": [
    {
     "data": {
      "text/html": [
       "<div>\n",
       "<style scoped>\n",
       "    .dataframe tbody tr th:only-of-type {\n",
       "        vertical-align: middle;\n",
       "    }\n",
       "\n",
       "    .dataframe tbody tr th {\n",
       "        vertical-align: top;\n",
       "    }\n",
       "\n",
       "    .dataframe thead th {\n",
       "        text-align: right;\n",
       "    }\n",
       "</style>\n",
       "<table border=\"1\" class=\"dataframe\">\n",
       "  <thead>\n",
       "    <tr style=\"text-align: right;\">\n",
       "      <th></th>\n",
       "      <th>Density</th>\n",
       "      <th>Country/Territory</th>\n",
       "    </tr>\n",
       "  </thead>\n",
       "  <tbody>\n",
       "    <tr>\n",
       "      <th>119</th>\n",
       "      <td>23172.2667</td>\n",
       "      <td>Macau</td>\n",
       "    </tr>\n",
       "    <tr>\n",
       "      <th>134</th>\n",
       "      <td>18234.5000</td>\n",
       "      <td>Monaco</td>\n",
       "    </tr>\n",
       "    <tr>\n",
       "      <th>187</th>\n",
       "      <td>8416.4634</td>\n",
       "      <td>Singapore</td>\n",
       "    </tr>\n",
       "    <tr>\n",
       "      <th>89</th>\n",
       "      <td>6783.3922</td>\n",
       "      <td>Hong Kong</td>\n",
       "    </tr>\n",
       "    <tr>\n",
       "      <th>76</th>\n",
       "      <td>5441.5000</td>\n",
       "      <td>Gibraltar</td>\n",
       "    </tr>\n",
       "  </tbody>\n",
       "</table>\n",
       "</div>"
      ],
      "text/plain": [
       "        Density Country/Territory\n",
       "119  23172.2667             Macau\n",
       "134  18234.5000            Monaco\n",
       "187   8416.4634         Singapore\n",
       "89    6783.3922         Hong Kong\n",
       "76    5441.5000         Gibraltar"
      ]
     },
     "execution_count": 20,
     "metadata": {},
     "output_type": "execute_result"
    }
   ],
   "source": [
    "# Density\n",
    "density = df_pop_new[['Density','Country/Territory']].sort_values('Density', ascending = False).head()\n",
    "density"
   ]
  }
 ],
 "metadata": {
  "kernelspec": {
   "display_name": "Python 3",
   "language": "python",
   "name": "python3"
  },
  "language_info": {
   "codemirror_mode": {
    "name": "ipython",
    "version": 3
   },
   "file_extension": ".py",
   "mimetype": "text/x-python",
   "name": "python",
   "nbconvert_exporter": "python",
   "pygments_lexer": "ipython3",
   "version": "3.7.12"
  },
  "papermill": {
   "default_parameters": {},
   "duration": 11.87148,
   "end_time": "2022-10-24T20:44:35.547479",
   "environment_variables": {},
   "exception": null,
   "input_path": "__notebook__.ipynb",
   "output_path": "__notebook__.ipynb",
   "parameters": {},
   "start_time": "2022-10-24T20:44:23.675999",
   "version": "2.3.4"
  }
 },
 "nbformat": 4,
 "nbformat_minor": 5
}
