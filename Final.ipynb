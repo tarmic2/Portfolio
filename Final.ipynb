{
  "metadata": {
    "language_info": {
      "codemirror_mode": {
        "name": "python",
        "version": 3
      },
      "file_extension": ".py",
      "mimetype": "text/x-python",
      "name": "python",
      "nbconvert_exporter": "python",
      "pygments_lexer": "ipython3",
      "version": "3.8"
    },
    "kernelspec": {
      "name": "python",
      "display_name": "Pyolite",
      "language": "python"
    }
  },
  "nbformat_minor": 4,
  "nbformat": 4,
  "cells": [
    {
      "cell_type": "markdown",
      "source": "# H1 My Jupyter Notebook on IBM Watson Studio",
      "metadata": {}
    },
    {
      "cell_type": "markdown",
      "source": "**TJ A** \n\nData scientist",
      "metadata": {}
    },
    {
      "cell_type": "markdown",
      "source": "*I am interested in data science because big data interests me!*",
      "metadata": {}
    },
    {
      "cell_type": "markdown",
      "source": "### The code should say hello world!",
      "metadata": {}
    },
    {
      "cell_type": "code",
      "source": "print(\"hello world\")",
      "metadata": {
        "trusted": true
      },
      "execution_count": 1,
      "outputs": [
        {
          "name": "stdout",
          "text": "hello world\n",
          "output_type": "stream"
        }
      ]
    },
    {
      "cell_type": "markdown",
      "source": "###### [I'm an inline-style link](https://www.google.com)\n1. I am a list\n2. I am also a list\n\n~~Scratch this.~~",
      "metadata": {}
    }
  ]
}